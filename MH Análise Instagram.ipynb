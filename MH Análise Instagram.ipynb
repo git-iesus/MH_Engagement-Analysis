{
 "cells": [
  {
   "cell_type": "markdown",
   "id": "19cc6f09-26f9-49c7-83e8-ed2fd27d637c",
   "metadata": {},
   "source": [
    "# Analisando o engajamento do Instagram\n",
    "\n",
    "### O que queremos responder?\n",
    "- Qual tipo de conteúdo **mais engaja** no Instagram da **@milenahansembeauty**?\n",
    "- Temos a base de dados do Instagram **desde que o usuário começou a postar na marca até o dia 25/11/2024**\n",
    "- Queremos entender curtidas, comentários, interações e visualizações dos reels"
   ]
  }
 ],
 "metadata": {
  "kernelspec": {
   "display_name": "Python 3 (ipykernel)",
   "language": "python",
   "name": "python3"
  },
  "language_info": {
   "codemirror_mode": {
    "name": "ipython",
    "version": 3
   },
   "file_extension": ".py",
   "mimetype": "text/x-python",
   "name": "python",
   "nbconvert_exporter": "python",
   "pygments_lexer": "ipython3",
   "version": "3.12.7"
  }
 },
 "nbformat": 4,
 "nbformat_minor": 5
}
